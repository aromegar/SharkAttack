{
 "cells": [
  {
   "cell_type": "markdown",
   "id": "d7813bd0",
   "metadata": {},
   "source": [
    "# Shark Attack !!!"
   ]
  },
  {
   "cell_type": "markdown",
   "id": "6df370db",
   "metadata": {},
   "source": [
    "## visualizando..."
   ]
  },
  {
   "cell_type": "markdown",
   "id": "2d1a2f06",
   "metadata": {},
   "source": [
    "vamos a visualizar los datos"
   ]
  },
  {
   "cell_type": "code",
   "execution_count": 1,
   "id": "1bc597c5",
   "metadata": {},
   "outputs": [],
   "source": [
    "import plotly.express as px\n",
    "import seaborn as sns\n",
    "import pandas as pd\n",
    "import plotly.graph_objects as go"
   ]
  },
  {
   "cell_type": "code",
   "execution_count": 2,
   "id": "9fa8222e",
   "metadata": {},
   "outputs": [],
   "source": [
    "sns.set_context(\"poster\")\n",
    "sns.set(rc={\"figure.figsize\": (12.,6.)})\n",
    "sns.set_style(\"whitegrid\")"
   ]
  },
  {
   "cell_type": "code",
   "execution_count": 3,
   "id": "203af47f",
   "metadata": {},
   "outputs": [],
   "source": [
    "df = pd.read_csv(\"DATA/clean_sharks.csv\",encoding = \"ISO-8859-1\")"
   ]
  },
  {
   "cell_type": "code",
   "execution_count": 4,
   "id": "7bcfb849",
   "metadata": {},
   "outputs": [],
   "source": [
    "df.drop(['Unnamed: 0','Case Number', 'Date', 'Type', 'Location', 'Injury'], axis=1, inplace=True)"
   ]
  },
  {
   "cell_type": "code",
   "execution_count": 5,
   "id": "23659448",
   "metadata": {
    "scrolled": true
   },
   "outputs": [
    {
     "data": {
      "text/html": [
       "<div>\n",
       "<style scoped>\n",
       "    .dataframe tbody tr th:only-of-type {\n",
       "        vertical-align: middle;\n",
       "    }\n",
       "\n",
       "    .dataframe tbody tr th {\n",
       "        vertical-align: top;\n",
       "    }\n",
       "\n",
       "    .dataframe thead th {\n",
       "        text-align: right;\n",
       "    }\n",
       "</style>\n",
       "<table border=\"1\" class=\"dataframe\">\n",
       "  <thead>\n",
       "    <tr style=\"text-align: right;\">\n",
       "      <th></th>\n",
       "      <th>Year</th>\n",
       "      <th>Country</th>\n",
       "      <th>Area</th>\n",
       "      <th>Activity</th>\n",
       "      <th>Sex</th>\n",
       "      <th>Age</th>\n",
       "      <th>Fatal (Y/N)</th>\n",
       "      <th>Time</th>\n",
       "      <th>Species</th>\n",
       "      <th>month</th>\n",
       "      <th>Hemisf</th>\n",
       "      <th>valor_verano</th>\n",
       "      <th>clean_specie</th>\n",
       "    </tr>\n",
       "  </thead>\n",
       "  <tbody>\n",
       "    <tr>\n",
       "      <th>0</th>\n",
       "      <td>2018.0</td>\n",
       "      <td>USA</td>\n",
       "      <td>California</td>\n",
       "      <td>Paddling</td>\n",
       "      <td>F</td>\n",
       "      <td>57</td>\n",
       "      <td>N</td>\n",
       "      <td>18h00</td>\n",
       "      <td>White shark</td>\n",
       "      <td>Jun</td>\n",
       "      <td>norte</td>\n",
       "      <td>6</td>\n",
       "      <td>white shark</td>\n",
       "    </tr>\n",
       "    <tr>\n",
       "      <th>1</th>\n",
       "      <td>2018.0</td>\n",
       "      <td>USA</td>\n",
       "      <td>Georgia</td>\n",
       "      <td>Standing</td>\n",
       "      <td>F</td>\n",
       "      <td>11</td>\n",
       "      <td>N</td>\n",
       "      <td>14h00  -15h00</td>\n",
       "      <td>NaN</td>\n",
       "      <td>Jun</td>\n",
       "      <td>norte</td>\n",
       "      <td>6</td>\n",
       "      <td>unknown</td>\n",
       "    </tr>\n",
       "    <tr>\n",
       "      <th>2</th>\n",
       "      <td>2018.0</td>\n",
       "      <td>USA</td>\n",
       "      <td>Hawaii</td>\n",
       "      <td>Surfing</td>\n",
       "      <td>M</td>\n",
       "      <td>48</td>\n",
       "      <td>N</td>\n",
       "      <td>07h45</td>\n",
       "      <td>NaN</td>\n",
       "      <td>Jun</td>\n",
       "      <td>norte</td>\n",
       "      <td>6</td>\n",
       "      <td>unknown</td>\n",
       "    </tr>\n",
       "  </tbody>\n",
       "</table>\n",
       "</div>"
      ],
      "text/plain": [
       "     Year Country        Area  Activity Sex  Age Fatal (Y/N)           Time  \\\n",
       "0  2018.0     USA  California  Paddling    F  57           N          18h00   \n",
       "1  2018.0     USA     Georgia  Standing    F  11           N  14h00  -15h00   \n",
       "2  2018.0     USA      Hawaii   Surfing    M  48           N          07h45   \n",
       "\n",
       "       Species month Hemisf valor_verano clean_specie  \n",
       "0  White shark   Jun  norte            6  white shark  \n",
       "1          NaN   Jun  norte            6      unknown  \n",
       "2          NaN   Jun  norte            6      unknown  "
      ]
     },
     "execution_count": 5,
     "metadata": {},
     "output_type": "execute_result"
    }
   ],
   "source": [
    "df.head(3)"
   ]
  },
  {
   "cell_type": "code",
   "execution_count": null,
   "id": "4c087478",
   "metadata": {},
   "outputs": [],
   "source": []
  },
  {
   "cell_type": "markdown",
   "id": "75294632",
   "metadata": {},
   "source": [
    "# 1ª hipótesis: \"los ataques son más frecuentes en verano\""
   ]
  },
  {
   "cell_type": "markdown",
   "id": "1ed77557",
   "metadata": {},
   "source": [
    "#### agrupamos los datos del df por el \"valor_verano\""
   ]
  },
  {
   "cell_type": "code",
   "execution_count": 6,
   "id": "2f1795cc",
   "metadata": {
    "scrolled": true
   },
   "outputs": [],
   "source": [
    "agrup=pd.DataFrame(df.valor_verano.value_counts())"
   ]
  },
  {
   "cell_type": "code",
   "execution_count": 7,
   "id": "0f585335",
   "metadata": {},
   "outputs": [],
   "source": [
    "agrup=agrup.reset_index()"
   ]
  },
  {
   "cell_type": "code",
   "execution_count": 8,
   "id": "a482ff67",
   "metadata": {},
   "outputs": [],
   "source": [
    "agrup.rename(columns={\"index\":\"verano\",\"valor_verano\":\"casos\"}, inplace=True)"
   ]
  },
  {
   "cell_type": "code",
   "execution_count": 9,
   "id": "1da07381",
   "metadata": {},
   "outputs": [],
   "source": [
    "agrup.drop([0], axis=0,inplace=True)"
   ]
  },
  {
   "cell_type": "code",
   "execution_count": 10,
   "id": "ddef00a7",
   "metadata": {},
   "outputs": [],
   "source": [
    "agrup=agrup.sort_values('verano')"
   ]
  },
  {
   "cell_type": "code",
   "execution_count": 11,
   "id": "90a06a29",
   "metadata": {},
   "outputs": [],
   "source": [
    "agrup=agrup.reset_index()"
   ]
  },
  {
   "cell_type": "code",
   "execution_count": 12,
   "id": "2702f0ac",
   "metadata": {},
   "outputs": [],
   "source": [
    "agrup.drop([\"index\"], axis=1, inplace=True)"
   ]
  },
  {
   "cell_type": "code",
   "execution_count": 13,
   "id": "a224850f",
   "metadata": {},
   "outputs": [
    {
     "data": {
      "text/html": [
       "<div>\n",
       "<style scoped>\n",
       "    .dataframe tbody tr th:only-of-type {\n",
       "        vertical-align: middle;\n",
       "    }\n",
       "\n",
       "    .dataframe tbody tr th {\n",
       "        vertical-align: top;\n",
       "    }\n",
       "\n",
       "    .dataframe thead th {\n",
       "        text-align: right;\n",
       "    }\n",
       "</style>\n",
       "<table border=\"1\" class=\"dataframe\">\n",
       "  <thead>\n",
       "    <tr style=\"text-align: right;\">\n",
       "      <th></th>\n",
       "      <th>verano</th>\n",
       "      <th>casos</th>\n",
       "    </tr>\n",
       "  </thead>\n",
       "  <tbody>\n",
       "    <tr>\n",
       "      <th>0</th>\n",
       "      <td>1</td>\n",
       "      <td>334</td>\n",
       "    </tr>\n",
       "    <tr>\n",
       "      <th>1</th>\n",
       "      <td>2</td>\n",
       "      <td>365</td>\n",
       "    </tr>\n",
       "    <tr>\n",
       "      <th>2</th>\n",
       "      <td>3</td>\n",
       "      <td>589</td>\n",
       "    </tr>\n",
       "    <tr>\n",
       "      <th>3</th>\n",
       "      <td>4</td>\n",
       "      <td>808</td>\n",
       "    </tr>\n",
       "    <tr>\n",
       "      <th>4</th>\n",
       "      <td>5</td>\n",
       "      <td>900</td>\n",
       "    </tr>\n",
       "    <tr>\n",
       "      <th>5</th>\n",
       "      <td>6</td>\n",
       "      <td>1250</td>\n",
       "    </tr>\n",
       "  </tbody>\n",
       "</table>\n",
       "</div>"
      ],
      "text/plain": [
       "  verano  casos\n",
       "0      1    334\n",
       "1      2    365\n",
       "2      3    589\n",
       "3      4    808\n",
       "4      5    900\n",
       "5      6   1250"
      ]
     },
     "execution_count": 13,
     "metadata": {},
     "output_type": "execute_result"
    }
   ],
   "source": [
    "agrup"
   ]
  },
  {
   "cell_type": "markdown",
   "id": "340e38c0",
   "metadata": {},
   "source": [
    "#### y lo representamos en esta gráfica:"
   ]
  },
  {
   "cell_type": "code",
   "execution_count": 14,
   "id": "af79d599",
   "metadata": {
    "scrolled": true
   },
   "outputs": [
    {
     "data": {
      "image/png": "[encoded data removed]",
      "text/plain": [
       "<Figure size 864x432 with 1 Axes>"
      ]
     },
     "metadata": {},
     "output_type": "display_data"
    }
   ],
   "source": [
    "sns.lineplot(data=agrup, x=\"verano\", y=\"casos\");"
   ]
  },
  {
   "cell_type": "markdown",
   "id": "4d6709ce",
   "metadata": {},
   "source": [
    "### vemos que prácticamente se ajusta a una regresión lineal, por lo que la hipótesis es cierta."
   ]
  },
  {
   "cell_type": "code",
   "execution_count": null,
   "id": "bd97b06c",
   "metadata": {},
   "outputs": [],
   "source": []
  },
  {
   "cell_type": "markdown",
   "id": "d684caf5",
   "metadata": {},
   "source": [
    "# 2ª hipótesis: \"los ataques se distribuyen por océanos\""
   ]
  },
  {
   "cell_type": "markdown",
   "id": "d92094f9",
   "metadata": {},
   "source": [
    "#### vamos a utilizar el dataframe \"mar\" que obtuvimos en nuestra limpieza:"
   ]
  },
  {
   "cell_type": "code",
   "execution_count": 15,
   "id": "bbbe66bf",
   "metadata": {},
   "outputs": [],
   "source": [
    "mar = pd.read_csv(\"DATA/cases_by_sea.csv\",encoding = \"ISO-8859-1\")"
   ]
  },
  {
   "cell_type": "code",
   "execution_count": 16,
   "id": "6b26e47c",
   "metadata": {},
   "outputs": [],
   "source": [
    "mar.rename(columns={\"Unnamed: 0\":\"Area\"}, inplace=True)"
   ]
  },
  {
   "cell_type": "code",
   "execution_count": 17,
   "id": "7b7fe027",
   "metadata": {},
   "outputs": [
    {
     "data": {
      "text/html": [
       "<div>\n",
       "<style scoped>\n",
       "    .dataframe tbody tr th:only-of-type {\n",
       "        vertical-align: middle;\n",
       "    }\n",
       "\n",
       "    .dataframe tbody tr th {\n",
       "        vertical-align: top;\n",
       "    }\n",
       "\n",
       "    .dataframe thead th {\n",
       "        text-align: right;\n",
       "    }\n",
       "</style>\n",
       "<table border=\"1\" class=\"dataframe\">\n",
       "  <thead>\n",
       "    <tr style=\"text-align: right;\">\n",
       "      <th></th>\n",
       "      <th>Area</th>\n",
       "      <th>cases</th>\n",
       "      <th>Accumu</th>\n",
       "      <th>Sea</th>\n",
       "      <th>Hemisphere</th>\n",
       "    </tr>\n",
       "  </thead>\n",
       "  <tbody>\n",
       "    <tr>\n",
       "      <th>0</th>\n",
       "      <td>Florida</td>\n",
       "      <td>1037</td>\n",
       "      <td>16.449873</td>\n",
       "      <td>car</td>\n",
       "      <td>norte</td>\n",
       "    </tr>\n",
       "    <tr>\n",
       "      <th>1</th>\n",
       "      <td>New South Wales</td>\n",
       "      <td>486</td>\n",
       "      <td>24.159264</td>\n",
       "      <td>pas</td>\n",
       "      <td>sur</td>\n",
       "    </tr>\n",
       "    <tr>\n",
       "      <th>2</th>\n",
       "      <td>Queensland</td>\n",
       "      <td>311</td>\n",
       "      <td>29.092640</td>\n",
       "      <td>pas</td>\n",
       "      <td>sur</td>\n",
       "    </tr>\n",
       "    <tr>\n",
       "      <th>3</th>\n",
       "      <td>Hawaii</td>\n",
       "      <td>298</td>\n",
       "      <td>33.819797</td>\n",
       "      <td>pan</td>\n",
       "      <td>norte</td>\n",
       "    </tr>\n",
       "    <tr>\n",
       "      <th>4</th>\n",
       "      <td>California</td>\n",
       "      <td>290</td>\n",
       "      <td>38.420051</td>\n",
       "      <td>pan</td>\n",
       "      <td>norte</td>\n",
       "    </tr>\n",
       "  </tbody>\n",
       "</table>\n",
       "</div>"
      ],
      "text/plain": [
       "              Area  cases     Accumu  Sea Hemisphere\n",
       "0          Florida   1037  16.449873  car      norte\n",
       "1  New South Wales    486  24.159264  pas        sur\n",
       "2       Queensland    311  29.092640  pas        sur\n",
       "3           Hawaii    298  33.819797  pan      norte\n",
       "4       California    290  38.420051  pan      norte"
      ]
     },
     "execution_count": 17,
     "metadata": {},
     "output_type": "execute_result"
    }
   ],
   "source": [
    "mar.head()"
   ]
  },
  {
   "cell_type": "code",
   "execution_count": 18,
   "id": "5f67d8a2",
   "metadata": {},
   "outputs": [
    {
     "data": {
      "text/plain": [
       "-      775\n",
       "pas     15\n",
       "car     10\n",
       "atn      7\n",
       "pan      6\n",
       "ind      6\n",
       "ats      3\n",
       "med      3\n",
       "Name: Sea, dtype: int64"
      ]
     },
     "execution_count": 18,
     "metadata": {},
     "output_type": "execute_result"
    }
   ],
   "source": [
    "mar.Sea.value_counts()"
   ]
  },
  {
   "cell_type": "code",
   "execution_count": 19,
   "id": "9d7828fc",
   "metadata": {},
   "outputs": [],
   "source": [
    "mar.drop(mar[mar.Sea==\"-\"].index, inplace=True)"
   ]
  },
  {
   "cell_type": "code",
   "execution_count": 20,
   "id": "890e8fa8",
   "metadata": {},
   "outputs": [
    {
     "data": {
      "image/png": "[encoded data removed]",
      "text/plain": [
       "<Figure size 864x432 with 1 Axes>"
      ]
     },
     "metadata": {},
     "output_type": "display_data"
    }
   ],
   "source": [
    "sns.countplot(x=mar.Sea);"
   ]
  },
  {
   "cell_type": "markdown",
   "id": "c0b4ce33",
   "metadata": {},
   "source": [
    "### el Pacífico Sur y el Caribe son los mares donde más ataques se dan."
   ]
  },
  {
   "cell_type": "markdown",
   "id": "f543a82c",
   "metadata": {},
   "source": [
    "# 3ª hipótesis: \"el tiburón blanco es el más peligroso\""
   ]
  },
  {
   "cell_type": "markdown",
   "id": "bece6557",
   "metadata": {},
   "source": [
    "#### tenemos muchas especies con un único caso observado, que nos distorsiona mucho"
   ]
  },
  {
   "cell_type": "code",
   "execution_count": 21,
   "id": "e10b105a",
   "metadata": {},
   "outputs": [
    {
     "data": {
      "text/html": [
       "<div>\n",
       "<style scoped>\n",
       "    .dataframe tbody tr th:only-of-type {\n",
       "        vertical-align: middle;\n",
       "    }\n",
       "\n",
       "    .dataframe tbody tr th {\n",
       "        vertical-align: top;\n",
       "    }\n",
       "\n",
       "    .dataframe thead th {\n",
       "        text-align: right;\n",
       "    }\n",
       "</style>\n",
       "<table border=\"1\" class=\"dataframe\">\n",
       "  <thead>\n",
       "    <tr style=\"text-align: right;\">\n",
       "      <th></th>\n",
       "      <th>especie</th>\n",
       "      <th>casos</th>\n",
       "    </tr>\n",
       "  </thead>\n",
       "  <tbody>\n",
       "    <tr>\n",
       "      <th>1</th>\n",
       "      <td>white shark</td>\n",
       "      <td>634</td>\n",
       "    </tr>\n",
       "    <tr>\n",
       "      <th>2</th>\n",
       "      <td>tiger shark</td>\n",
       "      <td>260</td>\n",
       "    </tr>\n",
       "    <tr>\n",
       "      <th>3</th>\n",
       "      <td>bull shark</td>\n",
       "      <td>177</td>\n",
       "    </tr>\n",
       "    <tr>\n",
       "      <th>4</th>\n",
       "      <td>m shark</td>\n",
       "      <td>129</td>\n",
       "    </tr>\n",
       "    <tr>\n",
       "      <th>5</th>\n",
       "      <td>nurse shark</td>\n",
       "      <td>97</td>\n",
       "    </tr>\n",
       "    <tr>\n",
       "      <th>...</th>\n",
       "      <td>...</td>\n",
       "      <td>...</td>\n",
       "    </tr>\n",
       "    <tr>\n",
       "      <th>98</th>\n",
       "      <td>gray shark</td>\n",
       "      <td>1</td>\n",
       "    </tr>\n",
       "    <tr>\n",
       "      <th>99</th>\n",
       "      <td>for shark</td>\n",
       "      <td>1</td>\n",
       "    </tr>\n",
       "    <tr>\n",
       "      <th>100</th>\n",
       "      <td>8 shark</td>\n",
       "      <td>1</td>\n",
       "    </tr>\n",
       "    <tr>\n",
       "      <th>101</th>\n",
       "      <td>red shark</td>\n",
       "      <td>1</td>\n",
       "    </tr>\n",
       "    <tr>\n",
       "      <th>102</th>\n",
       "      <td>tipped shark</td>\n",
       "      <td>1</td>\n",
       "    </tr>\n",
       "  </tbody>\n",
       "</table>\n",
       "<p>102 rows × 2 columns</p>\n",
       "</div>"
      ],
      "text/plain": [
       "          especie  casos\n",
       "1     white shark    634\n",
       "2     tiger shark    260\n",
       "3      bull shark    177\n",
       "4         m shark    129\n",
       "5     nurse shark     97\n",
       "..            ...    ...\n",
       "98     gray shark      1\n",
       "99      for shark      1\n",
       "100       8 shark      1\n",
       "101     red shark      1\n",
       "102  tipped shark      1\n",
       "\n",
       "[102 rows x 2 columns]"
      ]
     },
     "execution_count": 21,
     "metadata": {},
     "output_type": "execute_result"
    }
   ],
   "source": [
    "gru=pd.DataFrame(df.clean_specie.value_counts())\n",
    "gru=gru.reset_index()\n",
    "gru.rename(columns={\"index\":\"especie\",\"clean_specie\":\"casos\"}, inplace=True)\n",
    "gru.drop([0], axis=0,inplace=True)\n",
    "gru"
   ]
  },
  {
   "cell_type": "code",
   "execution_count": 22,
   "id": "d0803a40",
   "metadata": {},
   "outputs": [],
   "source": [
    "gru.drop(gru[gru.casos<=20].index, inplace=True)"
   ]
  },
  {
   "cell_type": "code",
   "execution_count": 23,
   "id": "064dbb3f",
   "metadata": {},
   "outputs": [
    {
     "data": {
      "image/png": "[encoded data removed]",
      "text/plain": [
       "<Figure size 864x432 with 1 Axes>"
      ]
     },
     "metadata": {},
     "output_type": "display_data"
    }
   ],
   "source": [
    "sns.barplot(data=gru,x=\"casos\",y=\"especie\");"
   ]
  },
  {
   "cell_type": "markdown",
   "id": "44bdca3f",
   "metadata": {},
   "source": [
    "### efectivamente, el tiburón blanco es con diferencia el tiburón más mortífero y mortal"
   ]
  },
  {
   "cell_type": "code",
   "execution_count": null,
   "id": "c401b28f",
   "metadata": {},
   "outputs": [],
   "source": []
  }
 ],
 "metadata": {
  "kernelspec": {
   "display_name": "ironhack",
   "language": "python",
   "name": "ironhack"
  },
  "language_info": {
   "codemirror_mode": {
    "name": "ipython",
    "version": 3
   },
   "file_extension": ".py",
   "mimetype": "text/x-python",
   "name": "python",
   "nbconvert_exporter": "python",
   "pygments_lexer": "ipython3",
   "version": "3.8.12"
  }
 },
 "nbformat": 4,
 "nbformat_minor": 5
}
