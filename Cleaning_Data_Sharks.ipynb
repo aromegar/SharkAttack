{
 "cells": [
  {
   "cell_type": "markdown",
   "id": "d7813bd0",
   "metadata": {},
   "source": [
    "# Shark Attack !!!"
   ]
  },
  {
   "cell_type": "markdown",
   "id": "123ec9b3",
   "metadata": {},
   "source": [
    "## Cleaning..."
   ]
  },
  {
   "cell_type": "markdown",
   "id": "db2ec01a",
   "metadata": {},
   "source": [
    "vamos a limpiar los datos de los tiburones, let´s go!!! "
   ]
  },
  {
   "cell_type": "code",
   "execution_count": 1,
   "id": "203af47f",
   "metadata": {},
   "outputs": [],
   "source": [
    "import pandas as pd\n",
    "import numpy as np \n",
    "from src import cleaning_functions as cf"
   ]
  },
  {
   "cell_type": "code",
   "execution_count": null,
   "id": "c3c09216",
   "metadata": {},
   "outputs": [],
   "source": []
  },
  {
   "cell_type": "markdown",
   "id": "b97c57a8",
   "metadata": {},
   "source": [
    "### cargamos el csv:"
   ]
  },
  {
   "cell_type": "code",
   "execution_count": 2,
   "id": "188d4b43",
   "metadata": {},
   "outputs": [],
   "source": [
    "df = pd.read_csv(\"DATA/attacks.csv\",encoding = \"ISO-8859-1\")"
   ]
  },
  {
   "cell_type": "markdown",
   "id": "d6b24f93",
   "metadata": {},
   "source": [
    "### hay muchas columnas que no me importan, las elimino:"
   ]
  },
  {
   "cell_type": "code",
   "execution_count": 3,
   "id": "437cbcfc",
   "metadata": {},
   "outputs": [],
   "source": [
    "df.drop([\"Name\",'Investigator or Source', 'pdf', 'href formula', 'href',\n",
    "       'Case Number.1', 'Case Number.2', 'original order', 'Unnamed: 22',\n",
    "       'Unnamed: 23'], axis=1, inplace=True)"
   ]
  },
  {
   "cell_type": "markdown",
   "id": "6e8857c4",
   "metadata": {},
   "source": [
    "### tambien eliminamos las filas con TODO NaN, y los duplicados:"
   ]
  },
  {
   "cell_type": "code",
   "execution_count": 4,
   "id": "2d4b89cf",
   "metadata": {},
   "outputs": [],
   "source": [
    "df.dropna(axis=0, how='all', inplace=True)"
   ]
  },
  {
   "cell_type": "code",
   "execution_count": 5,
   "id": "f7edaf55",
   "metadata": {},
   "outputs": [],
   "source": [
    "df.drop_duplicates(keep='first', inplace=True)"
   ]
  },
  {
   "cell_type": "markdown",
   "id": "893f767c",
   "metadata": {},
   "source": [
    "### ya tenemos el dataframe un poco más manejable:"
   ]
  },
  {
   "cell_type": "code",
   "execution_count": 6,
   "id": "7e24c8dd",
   "metadata": {},
   "outputs": [
    {
     "data": {
      "text/html": [
       "<div>\n",
       "<style scoped>\n",
       "    .dataframe tbody tr th:only-of-type {\n",
       "        vertical-align: middle;\n",
       "    }\n",
       "\n",
       "    .dataframe tbody tr th {\n",
       "        vertical-align: top;\n",
       "    }\n",
       "\n",
       "    .dataframe thead th {\n",
       "        text-align: right;\n",
       "    }\n",
       "</style>\n",
       "<table border=\"1\" class=\"dataframe\">\n",
       "  <thead>\n",
       "    <tr style=\"text-align: right;\">\n",
       "      <th></th>\n",
       "      <th>Case Number</th>\n",
       "      <th>Date</th>\n",
       "      <th>Year</th>\n",
       "      <th>Type</th>\n",
       "      <th>Country</th>\n",
       "      <th>Area</th>\n",
       "      <th>Location</th>\n",
       "      <th>Activity</th>\n",
       "      <th>Sex</th>\n",
       "      <th>Age</th>\n",
       "      <th>Injury</th>\n",
       "      <th>Fatal (Y/N)</th>\n",
       "      <th>Time</th>\n",
       "      <th>Species</th>\n",
       "    </tr>\n",
       "  </thead>\n",
       "  <tbody>\n",
       "    <tr>\n",
       "      <th>0</th>\n",
       "      <td>2018.06.25</td>\n",
       "      <td>25-Jun-2018</td>\n",
       "      <td>2018.0</td>\n",
       "      <td>Boating</td>\n",
       "      <td>USA</td>\n",
       "      <td>California</td>\n",
       "      <td>Oceanside, San Diego County</td>\n",
       "      <td>Paddling</td>\n",
       "      <td>F</td>\n",
       "      <td>57</td>\n",
       "      <td>No injury to occupant, outrigger canoe and pad...</td>\n",
       "      <td>N</td>\n",
       "      <td>18h00</td>\n",
       "      <td>White shark</td>\n",
       "    </tr>\n",
       "    <tr>\n",
       "      <th>1</th>\n",
       "      <td>2018.06.18</td>\n",
       "      <td>18-Jun-2018</td>\n",
       "      <td>2018.0</td>\n",
       "      <td>Unprovoked</td>\n",
       "      <td>USA</td>\n",
       "      <td>Georgia</td>\n",
       "      <td>St. Simon Island, Glynn County</td>\n",
       "      <td>Standing</td>\n",
       "      <td>F</td>\n",
       "      <td>11</td>\n",
       "      <td>Minor injury to left thigh</td>\n",
       "      <td>N</td>\n",
       "      <td>14h00  -15h00</td>\n",
       "      <td>NaN</td>\n",
       "    </tr>\n",
       "    <tr>\n",
       "      <th>2</th>\n",
       "      <td>2018.06.09</td>\n",
       "      <td>09-Jun-2018</td>\n",
       "      <td>2018.0</td>\n",
       "      <td>Invalid</td>\n",
       "      <td>USA</td>\n",
       "      <td>Hawaii</td>\n",
       "      <td>Habush, Oahu</td>\n",
       "      <td>Surfing</td>\n",
       "      <td>M</td>\n",
       "      <td>48</td>\n",
       "      <td>Injury to left lower leg from surfboard skeg</td>\n",
       "      <td>N</td>\n",
       "      <td>07h45</td>\n",
       "      <td>NaN</td>\n",
       "    </tr>\n",
       "  </tbody>\n",
       "</table>\n",
       "</div>"
      ],
      "text/plain": [
       "  Case Number         Date    Year        Type Country        Area  \\\n",
       "0  2018.06.25  25-Jun-2018  2018.0     Boating     USA  California   \n",
       "1  2018.06.18  18-Jun-2018  2018.0  Unprovoked     USA     Georgia   \n",
       "2  2018.06.09  09-Jun-2018  2018.0     Invalid     USA      Hawaii   \n",
       "\n",
       "                         Location  Activity Sex  Age  \\\n",
       "0     Oceanside, San Diego County  Paddling    F  57   \n",
       "1  St. Simon Island, Glynn County  Standing    F  11   \n",
       "2                    Habush, Oahu   Surfing    M  48   \n",
       "\n",
       "                                              Injury Fatal (Y/N)  \\\n",
       "0  No injury to occupant, outrigger canoe and pad...           N   \n",
       "1                         Minor injury to left thigh           N   \n",
       "2       Injury to left lower leg from surfboard skeg           N   \n",
       "\n",
       "            Time     Species   \n",
       "0          18h00  White shark  \n",
       "1  14h00  -15h00          NaN  \n",
       "2          07h45          NaN  "
      ]
     },
     "execution_count": 6,
     "metadata": {},
     "output_type": "execute_result"
    }
   ],
   "source": [
    "df.head(3)"
   ]
  },
  {
   "cell_type": "code",
   "execution_count": null,
   "id": "b70c936e",
   "metadata": {},
   "outputs": [],
   "source": []
  },
  {
   "cell_type": "markdown",
   "id": "2d8134a4",
   "metadata": {},
   "source": [
    "# 1ª hipótesis: \"los ataques son más frecuentes en verano\""
   ]
  },
  {
   "cell_type": "markdown",
   "id": "dcdd5d0b",
   "metadata": {},
   "source": [
    "### queremos sacar una nueva columna para el mes, a partir de la columna \"Date\"\n",
    "#### para ello usaremos nuestras funciones \"sacar_mes\" y \"limpiar_mes\" :\n"
   ]
  },
  {
   "cell_type": "code",
   "execution_count": 7,
   "id": "dfb5f4ab",
   "metadata": {},
   "outputs": [],
   "source": [
    "df[\"Month\"]=df.Date.apply(cf.sacar_mes)"
   ]
  },
  {
   "cell_type": "code",
   "execution_count": 8,
   "id": "f0332ab1",
   "metadata": {},
   "outputs": [],
   "source": [
    "df[\"month\"]=df.Month.apply(cf.limpiar_mes)"
   ]
  },
  {
   "cell_type": "code",
   "execution_count": 9,
   "id": "3c5b5638",
   "metadata": {},
   "outputs": [],
   "source": [
    "df.drop(\"Month\", axis=1, inplace=True)"
   ]
  },
  {
   "cell_type": "code",
   "execution_count": 10,
   "id": "3225bb03",
   "metadata": {},
   "outputs": [
    {
     "data": {
      "text/html": [
       "<div>\n",
       "<style scoped>\n",
       "    .dataframe tbody tr th:only-of-type {\n",
       "        vertical-align: middle;\n",
       "    }\n",
       "\n",
       "    .dataframe tbody tr th {\n",
       "        vertical-align: top;\n",
       "    }\n",
       "\n",
       "    .dataframe thead th {\n",
       "        text-align: right;\n",
       "    }\n",
       "</style>\n",
       "<table border=\"1\" class=\"dataframe\">\n",
       "  <thead>\n",
       "    <tr style=\"text-align: right;\">\n",
       "      <th></th>\n",
       "      <th>Case Number</th>\n",
       "      <th>Date</th>\n",
       "      <th>Year</th>\n",
       "      <th>Type</th>\n",
       "      <th>Country</th>\n",
       "      <th>Area</th>\n",
       "      <th>Location</th>\n",
       "      <th>Activity</th>\n",
       "      <th>Sex</th>\n",
       "      <th>Age</th>\n",
       "      <th>Injury</th>\n",
       "      <th>Fatal (Y/N)</th>\n",
       "      <th>Time</th>\n",
       "      <th>Species</th>\n",
       "      <th>month</th>\n",
       "    </tr>\n",
       "  </thead>\n",
       "  <tbody>\n",
       "    <tr>\n",
       "      <th>0</th>\n",
       "      <td>2018.06.25</td>\n",
       "      <td>25-Jun-2018</td>\n",
       "      <td>2018.0</td>\n",
       "      <td>Boating</td>\n",
       "      <td>USA</td>\n",
       "      <td>California</td>\n",
       "      <td>Oceanside, San Diego County</td>\n",
       "      <td>Paddling</td>\n",
       "      <td>F</td>\n",
       "      <td>57</td>\n",
       "      <td>No injury to occupant, outrigger canoe and pad...</td>\n",
       "      <td>N</td>\n",
       "      <td>18h00</td>\n",
       "      <td>White shark</td>\n",
       "      <td>Jun</td>\n",
       "    </tr>\n",
       "    <tr>\n",
       "      <th>1</th>\n",
       "      <td>2018.06.18</td>\n",
       "      <td>18-Jun-2018</td>\n",
       "      <td>2018.0</td>\n",
       "      <td>Unprovoked</td>\n",
       "      <td>USA</td>\n",
       "      <td>Georgia</td>\n",
       "      <td>St. Simon Island, Glynn County</td>\n",
       "      <td>Standing</td>\n",
       "      <td>F</td>\n",
       "      <td>11</td>\n",
       "      <td>Minor injury to left thigh</td>\n",
       "      <td>N</td>\n",
       "      <td>14h00  -15h00</td>\n",
       "      <td>NaN</td>\n",
       "      <td>Jun</td>\n",
       "    </tr>\n",
       "    <tr>\n",
       "      <th>2</th>\n",
       "      <td>2018.06.09</td>\n",
       "      <td>09-Jun-2018</td>\n",
       "      <td>2018.0</td>\n",
       "      <td>Invalid</td>\n",
       "      <td>USA</td>\n",
       "      <td>Hawaii</td>\n",
       "      <td>Habush, Oahu</td>\n",
       "      <td>Surfing</td>\n",
       "      <td>M</td>\n",
       "      <td>48</td>\n",
       "      <td>Injury to left lower leg from surfboard skeg</td>\n",
       "      <td>N</td>\n",
       "      <td>07h45</td>\n",
       "      <td>NaN</td>\n",
       "      <td>Jun</td>\n",
       "    </tr>\n",
       "  </tbody>\n",
       "</table>\n",
       "</div>"
      ],
      "text/plain": [
       "  Case Number         Date    Year        Type Country        Area  \\\n",
       "0  2018.06.25  25-Jun-2018  2018.0     Boating     USA  California   \n",
       "1  2018.06.18  18-Jun-2018  2018.0  Unprovoked     USA     Georgia   \n",
       "2  2018.06.09  09-Jun-2018  2018.0     Invalid     USA      Hawaii   \n",
       "\n",
       "                         Location  Activity Sex  Age  \\\n",
       "0     Oceanside, San Diego County  Paddling    F  57   \n",
       "1  St. Simon Island, Glynn County  Standing    F  11   \n",
       "2                    Habush, Oahu   Surfing    M  48   \n",
       "\n",
       "                                              Injury Fatal (Y/N)  \\\n",
       "0  No injury to occupant, outrigger canoe and pad...           N   \n",
       "1                         Minor injury to left thigh           N   \n",
       "2       Injury to left lower leg from surfboard skeg           N   \n",
       "\n",
       "            Time     Species  month  \n",
       "0          18h00  White shark   Jun  \n",
       "1  14h00  -15h00          NaN   Jun  \n",
       "2          07h45          NaN   Jun  "
      ]
     },
     "execution_count": 10,
     "metadata": {},
     "output_type": "execute_result"
    }
   ],
   "source": [
    "df.head(3)"
   ]
  },
  {
   "cell_type": "markdown",
   "id": "7be96726",
   "metadata": {},
   "source": [
    "### el problema es que para definir qué es \"verano\" necesitamos saber en qué hemisferio estamos.\n",
    "#### lo sacaremos a través de la columna \"Area\":"
   ]
  },
  {
   "cell_type": "code",
   "execution_count": 11,
   "id": "37d32966",
   "metadata": {},
   "outputs": [
    {
     "data": {
      "text/plain": [
       "826"
      ]
     },
     "execution_count": 11,
     "metadata": {},
     "output_type": "execute_result"
    }
   ],
   "source": [
    "len(list(df.Area.unique()))"
   ]
  },
  {
   "cell_type": "markdown",
   "id": "53d0695f",
   "metadata": {},
   "source": [
    "#### 826 valores son demasiados para meterlos a mano!\n",
    "#### no lo haremos con los registros que supongan menos de un 20%"
   ]
  },
  {
   "cell_type": "code",
   "execution_count": 12,
   "id": "897ddb6f",
   "metadata": {},
   "outputs": [
    {
     "data": {
      "text/plain": [
       "Florida                              1037\n",
       "New South Wales                       486\n",
       "Queensland                            311\n",
       "Hawaii                                298\n",
       "California                            290\n",
       "KwaZulu-Natal                         213\n",
       "Western Cape Province                 195\n",
       "Western Australia                     189\n",
       "Eastern Cape Province                 160\n",
       "South Carolina                        160\n",
       "South Australia                       104\n",
       "North Carolina                        101\n",
       "Victoria                               90\n",
       "Pernambuco                             74\n",
       "Texas                                  73\n",
       "Torres Strait                          70\n",
       "North Island                           67\n",
       "New Jersey                             52\n",
       "Tasmania                               41\n",
       "South Island                           40\n",
       "New York                               30\n",
       "Oregon                                 29\n",
       "Abaco Islands                          23\n",
       "Northern Territory                     23\n",
       "Central Province                       22\n",
       "Havana Province                        19\n",
       "Virginia                               19\n",
       "South Province                         17\n",
       "Gaza                                   16\n",
       "Massachusetts                          16\n",
       "Puerto Rico                            16\n",
       "Madang Province                        16\n",
       "Veracruz                               15\n",
       "New Ireland Province                   15\n",
       "Alabama                                15\n",
       "Georgia                                14\n",
       "Guerrero                               13\n",
       "Luzon Island                           13\n",
       "Khuzestan Province                     13\n",
       "Adriatic Sea                           12\n",
       "North Province                         12\n",
       "Quintana Roo                           12\n",
       "Rio de Janeiro                         11\n",
       "Tyrrhenian Sea                         11\n",
       "Mediterranean Sea                      11\n",
       "Louisiana                              11\n",
       "Malampa Province                       11\n",
       "Grand Bahama Island                    10\n",
       "Baja California                        10\n",
       "Bougainville (North Solomons)           9\n",
       "Basrah                                  9\n",
       " Primorje-Gorski Kotar County           9\n",
       "Society Islands                         9\n",
       "Tamil Nadu                              9\n",
       "Red Sea                                 9\n",
       "Eastern Province                        9\n",
       "Maputo Province                         8\n",
       "Admiralty Islands, Manus Province       8\n",
       "Milne Bay Province                      8\n",
       "West Bengal                             8\n",
       "Name: Area, dtype: int64"
      ]
     },
     "execution_count": 12,
     "metadata": {},
     "output_type": "execute_result"
    }
   ],
   "source": [
    "df.Area.value_counts().head(60)"
   ]
  },
  {
   "cell_type": "code",
   "execution_count": 13,
   "id": "b621d8f8",
   "metadata": {},
   "outputs": [],
   "source": [
    "areas=pd.DataFrame(df.Area.value_counts())"
   ]
  },
  {
   "cell_type": "code",
   "execution_count": 14,
   "id": "f9bd49cb",
   "metadata": {},
   "outputs": [],
   "source": [
    "areas[\"Pareto\"]=areas.Area/(df.shape[0])*100\n",
    "areas[\"Accumu\"]=0.0"
   ]
  },
  {
   "cell_type": "code",
   "execution_count": 15,
   "id": "c549a3cb",
   "metadata": {},
   "outputs": [
    {
     "name": "stderr",
     "output_type": "stream",
     "text": [
      "<ipython-input-15-43edb2fa42f1>:5: SettingWithCopyWarning: \n",
      "A value is trying to be set on a copy of a slice from a DataFrame\n",
      "\n",
      "See the caveats in the documentation: https://pandas.pydata.org/pandas-docs/stable/user_guide/indexing.html#returning-a-view-versus-a-copy\n",
      "  areas[\"Accumu\"][i]=k\n"
     ]
    }
   ],
   "source": [
    "for i in range(825):\n",
    "    k=0\n",
    "    for j in range(i+1):\n",
    "        k+=areas.Pareto[j]\n",
    "    areas[\"Accumu\"][i]=k"
   ]
  },
  {
   "cell_type": "code",
   "execution_count": 16,
   "id": "f2321328",
   "metadata": {
    "scrolled": true
   },
   "outputs": [
    {
     "data": {
      "text/html": [
       "<div>\n",
       "<style scoped>\n",
       "    .dataframe tbody tr th:only-of-type {\n",
       "        vertical-align: middle;\n",
       "    }\n",
       "\n",
       "    .dataframe tbody tr th {\n",
       "        vertical-align: top;\n",
       "    }\n",
       "\n",
       "    .dataframe thead th {\n",
       "        text-align: right;\n",
       "    }\n",
       "</style>\n",
       "<table border=\"1\" class=\"dataframe\">\n",
       "  <thead>\n",
       "    <tr style=\"text-align: right;\">\n",
       "      <th></th>\n",
       "      <th>Area</th>\n",
       "      <th>Pareto</th>\n",
       "      <th>Accumu</th>\n",
       "    </tr>\n",
       "  </thead>\n",
       "  <tbody>\n",
       "    <tr>\n",
       "      <th>Florida</th>\n",
       "      <td>1037</td>\n",
       "      <td>16.449873</td>\n",
       "      <td>16.449873</td>\n",
       "    </tr>\n",
       "    <tr>\n",
       "      <th>New South Wales</th>\n",
       "      <td>486</td>\n",
       "      <td>7.709391</td>\n",
       "      <td>24.159264</td>\n",
       "    </tr>\n",
       "    <tr>\n",
       "      <th>Queensland</th>\n",
       "      <td>311</td>\n",
       "      <td>4.933376</td>\n",
       "      <td>29.092640</td>\n",
       "    </tr>\n",
       "    <tr>\n",
       "      <th>Hawaii</th>\n",
       "      <td>298</td>\n",
       "      <td>4.727157</td>\n",
       "      <td>33.819797</td>\n",
       "    </tr>\n",
       "    <tr>\n",
       "      <th>California</th>\n",
       "      <td>290</td>\n",
       "      <td>4.600254</td>\n",
       "      <td>38.420051</td>\n",
       "    </tr>\n",
       "    <tr>\n",
       "      <th>KwaZulu-Natal</th>\n",
       "      <td>213</td>\n",
       "      <td>3.378807</td>\n",
       "      <td>41.798858</td>\n",
       "    </tr>\n",
       "    <tr>\n",
       "      <th>Western Cape Province</th>\n",
       "      <td>195</td>\n",
       "      <td>3.093274</td>\n",
       "      <td>44.892132</td>\n",
       "    </tr>\n",
       "    <tr>\n",
       "      <th>Western Australia</th>\n",
       "      <td>189</td>\n",
       "      <td>2.998096</td>\n",
       "      <td>47.890228</td>\n",
       "    </tr>\n",
       "    <tr>\n",
       "      <th>Eastern Cape Province</th>\n",
       "      <td>160</td>\n",
       "      <td>2.538071</td>\n",
       "      <td>50.428299</td>\n",
       "    </tr>\n",
       "    <tr>\n",
       "      <th>South Carolina</th>\n",
       "      <td>160</td>\n",
       "      <td>2.538071</td>\n",
       "      <td>52.966371</td>\n",
       "    </tr>\n",
       "    <tr>\n",
       "      <th>South Australia</th>\n",
       "      <td>104</td>\n",
       "      <td>1.649746</td>\n",
       "      <td>54.616117</td>\n",
       "    </tr>\n",
       "    <tr>\n",
       "      <th>North Carolina</th>\n",
       "      <td>101</td>\n",
       "      <td>1.602157</td>\n",
       "      <td>56.218274</td>\n",
       "    </tr>\n",
       "    <tr>\n",
       "      <th>Victoria</th>\n",
       "      <td>90</td>\n",
       "      <td>1.427665</td>\n",
       "      <td>57.645939</td>\n",
       "    </tr>\n",
       "    <tr>\n",
       "      <th>Pernambuco</th>\n",
       "      <td>74</td>\n",
       "      <td>1.173858</td>\n",
       "      <td>58.819797</td>\n",
       "    </tr>\n",
       "    <tr>\n",
       "      <th>Texas</th>\n",
       "      <td>73</td>\n",
       "      <td>1.157995</td>\n",
       "      <td>59.977792</td>\n",
       "    </tr>\n",
       "    <tr>\n",
       "      <th>Torres Strait</th>\n",
       "      <td>70</td>\n",
       "      <td>1.110406</td>\n",
       "      <td>61.088198</td>\n",
       "    </tr>\n",
       "    <tr>\n",
       "      <th>North Island</th>\n",
       "      <td>67</td>\n",
       "      <td>1.062817</td>\n",
       "      <td>62.151015</td>\n",
       "    </tr>\n",
       "    <tr>\n",
       "      <th>New Jersey</th>\n",
       "      <td>52</td>\n",
       "      <td>0.824873</td>\n",
       "      <td>62.975888</td>\n",
       "    </tr>\n",
       "    <tr>\n",
       "      <th>Tasmania</th>\n",
       "      <td>41</td>\n",
       "      <td>0.650381</td>\n",
       "      <td>63.626269</td>\n",
       "    </tr>\n",
       "    <tr>\n",
       "      <th>South Island</th>\n",
       "      <td>40</td>\n",
       "      <td>0.634518</td>\n",
       "      <td>64.260787</td>\n",
       "    </tr>\n",
       "    <tr>\n",
       "      <th>New York</th>\n",
       "      <td>30</td>\n",
       "      <td>0.475888</td>\n",
       "      <td>64.736675</td>\n",
       "    </tr>\n",
       "    <tr>\n",
       "      <th>Oregon</th>\n",
       "      <td>29</td>\n",
       "      <td>0.460025</td>\n",
       "      <td>65.196701</td>\n",
       "    </tr>\n",
       "    <tr>\n",
       "      <th>Abaco Islands</th>\n",
       "      <td>23</td>\n",
       "      <td>0.364848</td>\n",
       "      <td>65.561548</td>\n",
       "    </tr>\n",
       "    <tr>\n",
       "      <th>Northern Territory</th>\n",
       "      <td>23</td>\n",
       "      <td>0.364848</td>\n",
       "      <td>65.926396</td>\n",
       "    </tr>\n",
       "    <tr>\n",
       "      <th>Central Province</th>\n",
       "      <td>22</td>\n",
       "      <td>0.348985</td>\n",
       "      <td>66.275381</td>\n",
       "    </tr>\n",
       "    <tr>\n",
       "      <th>Havana Province</th>\n",
       "      <td>19</td>\n",
       "      <td>0.301396</td>\n",
       "      <td>66.576777</td>\n",
       "    </tr>\n",
       "    <tr>\n",
       "      <th>Virginia</th>\n",
       "      <td>19</td>\n",
       "      <td>0.301396</td>\n",
       "      <td>66.878173</td>\n",
       "    </tr>\n",
       "    <tr>\n",
       "      <th>South Province</th>\n",
       "      <td>17</td>\n",
       "      <td>0.269670</td>\n",
       "      <td>67.147843</td>\n",
       "    </tr>\n",
       "    <tr>\n",
       "      <th>Gaza</th>\n",
       "      <td>16</td>\n",
       "      <td>0.253807</td>\n",
       "      <td>67.401650</td>\n",
       "    </tr>\n",
       "    <tr>\n",
       "      <th>Massachusetts</th>\n",
       "      <td>16</td>\n",
       "      <td>0.253807</td>\n",
       "      <td>67.655457</td>\n",
       "    </tr>\n",
       "    <tr>\n",
       "      <th>Puerto Rico</th>\n",
       "      <td>16</td>\n",
       "      <td>0.253807</td>\n",
       "      <td>67.909264</td>\n",
       "    </tr>\n",
       "    <tr>\n",
       "      <th>Madang Province</th>\n",
       "      <td>16</td>\n",
       "      <td>0.253807</td>\n",
       "      <td>68.163071</td>\n",
       "    </tr>\n",
       "    <tr>\n",
       "      <th>Veracruz</th>\n",
       "      <td>15</td>\n",
       "      <td>0.237944</td>\n",
       "      <td>68.401015</td>\n",
       "    </tr>\n",
       "    <tr>\n",
       "      <th>New Ireland Province</th>\n",
       "      <td>15</td>\n",
       "      <td>0.237944</td>\n",
       "      <td>68.638959</td>\n",
       "    </tr>\n",
       "    <tr>\n",
       "      <th>Alabama</th>\n",
       "      <td>15</td>\n",
       "      <td>0.237944</td>\n",
       "      <td>68.876904</td>\n",
       "    </tr>\n",
       "    <tr>\n",
       "      <th>Georgia</th>\n",
       "      <td>14</td>\n",
       "      <td>0.222081</td>\n",
       "      <td>69.098985</td>\n",
       "    </tr>\n",
       "    <tr>\n",
       "      <th>Guerrero</th>\n",
       "      <td>13</td>\n",
       "      <td>0.206218</td>\n",
       "      <td>69.305203</td>\n",
       "    </tr>\n",
       "    <tr>\n",
       "      <th>Luzon Island</th>\n",
       "      <td>13</td>\n",
       "      <td>0.206218</td>\n",
       "      <td>69.511421</td>\n",
       "    </tr>\n",
       "    <tr>\n",
       "      <th>Khuzestan Province</th>\n",
       "      <td>13</td>\n",
       "      <td>0.206218</td>\n",
       "      <td>69.717640</td>\n",
       "    </tr>\n",
       "    <tr>\n",
       "      <th>Adriatic Sea</th>\n",
       "      <td>12</td>\n",
       "      <td>0.190355</td>\n",
       "      <td>69.907995</td>\n",
       "    </tr>\n",
       "    <tr>\n",
       "      <th>North Province</th>\n",
       "      <td>12</td>\n",
       "      <td>0.190355</td>\n",
       "      <td>70.098350</td>\n",
       "    </tr>\n",
       "    <tr>\n",
       "      <th>Quintana Roo</th>\n",
       "      <td>12</td>\n",
       "      <td>0.190355</td>\n",
       "      <td>70.288706</td>\n",
       "    </tr>\n",
       "    <tr>\n",
       "      <th>Rio de Janeiro</th>\n",
       "      <td>11</td>\n",
       "      <td>0.174492</td>\n",
       "      <td>70.463198</td>\n",
       "    </tr>\n",
       "    <tr>\n",
       "      <th>Tyrrhenian Sea</th>\n",
       "      <td>11</td>\n",
       "      <td>0.174492</td>\n",
       "      <td>70.637690</td>\n",
       "    </tr>\n",
       "    <tr>\n",
       "      <th>Mediterranean Sea</th>\n",
       "      <td>11</td>\n",
       "      <td>0.174492</td>\n",
       "      <td>70.812183</td>\n",
       "    </tr>\n",
       "    <tr>\n",
       "      <th>Louisiana</th>\n",
       "      <td>11</td>\n",
       "      <td>0.174492</td>\n",
       "      <td>70.986675</td>\n",
       "    </tr>\n",
       "    <tr>\n",
       "      <th>Malampa Province</th>\n",
       "      <td>11</td>\n",
       "      <td>0.174492</td>\n",
       "      <td>71.161168</td>\n",
       "    </tr>\n",
       "    <tr>\n",
       "      <th>Grand Bahama Island</th>\n",
       "      <td>10</td>\n",
       "      <td>0.158629</td>\n",
       "      <td>71.319797</td>\n",
       "    </tr>\n",
       "    <tr>\n",
       "      <th>Baja California</th>\n",
       "      <td>10</td>\n",
       "      <td>0.158629</td>\n",
       "      <td>71.478426</td>\n",
       "    </tr>\n",
       "    <tr>\n",
       "      <th>Bougainville (North Solomons)</th>\n",
       "      <td>9</td>\n",
       "      <td>0.142766</td>\n",
       "      <td>71.621193</td>\n",
       "    </tr>\n",
       "  </tbody>\n",
       "</table>\n",
       "</div>"
      ],
      "text/plain": [
       "                               Area     Pareto     Accumu\n",
       "Florida                        1037  16.449873  16.449873\n",
       "New South Wales                 486   7.709391  24.159264\n",
       "Queensland                      311   4.933376  29.092640\n",
       "Hawaii                          298   4.727157  33.819797\n",
       "California                      290   4.600254  38.420051\n",
       "KwaZulu-Natal                   213   3.378807  41.798858\n",
       "Western Cape Province           195   3.093274  44.892132\n",
       "Western Australia               189   2.998096  47.890228\n",
       "Eastern Cape Province           160   2.538071  50.428299\n",
       "South Carolina                  160   2.538071  52.966371\n",
       "South Australia                 104   1.649746  54.616117\n",
       "North Carolina                  101   1.602157  56.218274\n",
       "Victoria                         90   1.427665  57.645939\n",
       "Pernambuco                       74   1.173858  58.819797\n",
       "Texas                            73   1.157995  59.977792\n",
       "Torres Strait                    70   1.110406  61.088198\n",
       "North Island                     67   1.062817  62.151015\n",
       "New Jersey                       52   0.824873  62.975888\n",
       "Tasmania                         41   0.650381  63.626269\n",
       "South Island                     40   0.634518  64.260787\n",
       "New York                         30   0.475888  64.736675\n",
       "Oregon                           29   0.460025  65.196701\n",
       "Abaco Islands                    23   0.364848  65.561548\n",
       "Northern Territory               23   0.364848  65.926396\n",
       "Central Province                 22   0.348985  66.275381\n",
       "Havana Province                  19   0.301396  66.576777\n",
       "Virginia                         19   0.301396  66.878173\n",
       "South Province                   17   0.269670  67.147843\n",
       "Gaza                             16   0.253807  67.401650\n",
       "Massachusetts                    16   0.253807  67.655457\n",
       "Puerto Rico                      16   0.253807  67.909264\n",
       "Madang Province                  16   0.253807  68.163071\n",
       "Veracruz                         15   0.237944  68.401015\n",
       "New Ireland Province             15   0.237944  68.638959\n",
       "Alabama                          15   0.237944  68.876904\n",
       "Georgia                          14   0.222081  69.098985\n",
       "Guerrero                         13   0.206218  69.305203\n",
       "Luzon Island                     13   0.206218  69.511421\n",
       "Khuzestan Province               13   0.206218  69.717640\n",
       "Adriatic Sea                     12   0.190355  69.907995\n",
       "North Province                   12   0.190355  70.098350\n",
       "Quintana Roo                     12   0.190355  70.288706\n",
       "Rio de Janeiro                   11   0.174492  70.463198\n",
       "Tyrrhenian Sea                   11   0.174492  70.637690\n",
       "Mediterranean Sea                11   0.174492  70.812183\n",
       "Louisiana                        11   0.174492  70.986675\n",
       "Malampa Province                 11   0.174492  71.161168\n",
       "Grand Bahama Island              10   0.158629  71.319797\n",
       "Baja California                  10   0.158629  71.478426\n",
       "Bougainville (North Solomons)     9   0.142766  71.621193"
      ]
     },
     "execution_count": 16,
     "metadata": {},
     "output_type": "execute_result"
    }
   ],
   "source": [
    "areas.head(50)\n"
   ]
  },
  {
   "cell_type": "markdown",
   "id": "ffb849d6",
   "metadata": {},
   "source": [
    "### muy bien, lo haremos sólo para estos 50 primeros valores"
   ]
  },
  {
   "cell_type": "markdown",
   "id": "3785ed1a",
   "metadata": {},
   "source": [
    "#### creamos una lista con los mares asociados a cada área:"
   ]
  },
  {
   "cell_type": "code",
   "execution_count": 17,
   "id": "a3b18784",
   "metadata": {},
   "outputs": [],
   "source": [
    "seas=[\"car\",\"pas\",\"pas\",\"pan\",\"pan\",\"ind\",\"ats\",\"ind\",\"ind\",\"atn\",\"ind\",\"atn\",\"pas\",\"ats\",\"car\",\"pas\",\"pas\",\"atn\",\"pas\",\"pas\",\"atn\",\"pan\",\"car\",\"pas\",\"pas\",\"car\",\"atn\",\"pas\",\"ind\",\"atn\",\"car\",\"pas\",\"car\",\"pas\",\"car\",\"atn\",\"pan\",\"pan\",\"ind\",\"med\",\"pas\",\"car\",\"ats\",\"med\",\"med\",\"car\",\"pas\",\"car\",\"pan\",\"pas\"]"
   ]
  },
  {
   "cell_type": "markdown",
   "id": "7b193bc2",
   "metadata": {},
   "source": [
    "#### y una nueva columna \"Hemisferio\" inicialmente sin datos:"
   ]
  },
  {
   "cell_type": "code",
   "execution_count": 18,
   "id": "482596f0",
   "metadata": {},
   "outputs": [
    {
     "name": "stderr",
     "output_type": "stream",
     "text": [
      "<ipython-input-18-f0bc06cc6281>:3: SettingWithCopyWarning: \n",
      "A value is trying to be set on a copy of a slice from a DataFrame\n",
      "\n",
      "See the caveats in the documentation: https://pandas.pydata.org/pandas-docs/stable/user_guide/indexing.html#returning-a-view-versus-a-copy\n",
      "  areas.Sea[i]=seas[i]\n"
     ]
    }
   ],
   "source": [
    "areas[\"Sea\"]=\"-\"\n",
    "for i in range(50):\n",
    "    areas.Sea[i]=seas[i]\n",
    "areas[\"Hemisphere\"]=\"-\""
   ]
  },
  {
   "cell_type": "markdown",
   "id": "d4e1c4e6",
   "metadata": {},
   "source": [
    "#### a través de un diccionario, asociamos mares y hemisferios:"
   ]
  },
  {
   "cell_type": "code",
   "execution_count": 19,
   "id": "bd37d6ec",
   "metadata": {},
   "outputs": [],
   "source": [
    "hemidic={\"car\":\"norte\",\"atn\":\"norte\",\"pan\":\"norte\",\"med\":\"norte\",\"ats\":\"sur\",\"pas\":\"sur\",\"ind\":\"sur\",\"-\":\"-\"}"
   ]
  },
  {
   "cell_type": "code",
   "execution_count": 20,
   "id": "b3c019d4",
   "metadata": {},
   "outputs": [],
   "source": [
    "areas.Hemisphere=areas.Sea.map(hemidic)"
   ]
  },
  {
   "cell_type": "code",
   "execution_count": 21,
   "id": "8ca89db9",
   "metadata": {},
   "outputs": [],
   "source": [
    "areas.rename(columns={\"Area\":\"cases\"}, inplace=True)\n",
    "areas.drop(['Pareto'], axis=1,inplace=True)"
   ]
  },
  {
   "cell_type": "code",
   "execution_count": 22,
   "id": "28704132",
   "metadata": {},
   "outputs": [
    {
     "data": {
      "text/html": [
       "<div>\n",
       "<style scoped>\n",
       "    .dataframe tbody tr th:only-of-type {\n",
       "        vertical-align: middle;\n",
       "    }\n",
       "\n",
       "    .dataframe tbody tr th {\n",
       "        vertical-align: top;\n",
       "    }\n",
       "\n",
       "    .dataframe thead th {\n",
       "        text-align: right;\n",
       "    }\n",
       "</style>\n",
       "<table border=\"1\" class=\"dataframe\">\n",
       "  <thead>\n",
       "    <tr style=\"text-align: right;\">\n",
       "      <th></th>\n",
       "      <th>cases</th>\n",
       "      <th>Accumu</th>\n",
       "      <th>Sea</th>\n",
       "      <th>Hemisphere</th>\n",
       "    </tr>\n",
       "  </thead>\n",
       "  <tbody>\n",
       "    <tr>\n",
       "      <th>Florida</th>\n",
       "      <td>1037</td>\n",
       "      <td>16.449873</td>\n",
       "      <td>car</td>\n",
       "      <td>norte</td>\n",
       "    </tr>\n",
       "    <tr>\n",
       "      <th>New South Wales</th>\n",
       "      <td>486</td>\n",
       "      <td>24.159264</td>\n",
       "      <td>pas</td>\n",
       "      <td>sur</td>\n",
       "    </tr>\n",
       "    <tr>\n",
       "      <th>Queensland</th>\n",
       "      <td>311</td>\n",
       "      <td>29.092640</td>\n",
       "      <td>pas</td>\n",
       "      <td>sur</td>\n",
       "    </tr>\n",
       "    <tr>\n",
       "      <th>Hawaii</th>\n",
       "      <td>298</td>\n",
       "      <td>33.819797</td>\n",
       "      <td>pan</td>\n",
       "      <td>norte</td>\n",
       "    </tr>\n",
       "    <tr>\n",
       "      <th>California</th>\n",
       "      <td>290</td>\n",
       "      <td>38.420051</td>\n",
       "      <td>pan</td>\n",
       "      <td>norte</td>\n",
       "    </tr>\n",
       "    <tr>\n",
       "      <th>KwaZulu-Natal</th>\n",
       "      <td>213</td>\n",
       "      <td>41.798858</td>\n",
       "      <td>ind</td>\n",
       "      <td>sur</td>\n",
       "    </tr>\n",
       "    <tr>\n",
       "      <th>Western Cape Province</th>\n",
       "      <td>195</td>\n",
       "      <td>44.892132</td>\n",
       "      <td>ats</td>\n",
       "      <td>sur</td>\n",
       "    </tr>\n",
       "    <tr>\n",
       "      <th>Western Australia</th>\n",
       "      <td>189</td>\n",
       "      <td>47.890228</td>\n",
       "      <td>ind</td>\n",
       "      <td>sur</td>\n",
       "    </tr>\n",
       "    <tr>\n",
       "      <th>Eastern Cape Province</th>\n",
       "      <td>160</td>\n",
       "      <td>50.428299</td>\n",
       "      <td>ind</td>\n",
       "      <td>sur</td>\n",
       "    </tr>\n",
       "    <tr>\n",
       "      <th>South Carolina</th>\n",
       "      <td>160</td>\n",
       "      <td>52.966371</td>\n",
       "      <td>atn</td>\n",
       "      <td>norte</td>\n",
       "    </tr>\n",
       "  </tbody>\n",
       "</table>\n",
       "</div>"
      ],
      "text/plain": [
       "                       cases     Accumu  Sea Hemisphere\n",
       "Florida                 1037  16.449873  car      norte\n",
       "New South Wales          486  24.159264  pas        sur\n",
       "Queensland               311  29.092640  pas        sur\n",
       "Hawaii                   298  33.819797  pan      norte\n",
       "California               290  38.420051  pan      norte\n",
       "KwaZulu-Natal            213  41.798858  ind        sur\n",
       "Western Cape Province    195  44.892132  ats        sur\n",
       "Western Australia        189  47.890228  ind        sur\n",
       "Eastern Cape Province    160  50.428299  ind        sur\n",
       "South Carolina           160  52.966371  atn      norte"
      ]
     },
     "execution_count": 22,
     "metadata": {},
     "output_type": "execute_result"
    }
   ],
   "source": [
    "areas.head(10)"
   ]
  },
  {
   "cell_type": "markdown",
   "id": "4416d1bc",
   "metadata": {},
   "source": [
    "#### esta tabla además nos permitirá ver la distribución de ataques según el mar (2ª hipótesis)"
   ]
  },
  {
   "cell_type": "markdown",
   "id": "115455ca",
   "metadata": {},
   "source": [
    "### ahora cruzaremos los datos de \"mes\" con los de \"hemisferio\""
   ]
  },
  {
   "cell_type": "code",
   "execution_count": 23,
   "id": "eefe5f43",
   "metadata": {},
   "outputs": [],
   "source": [
    "dic={}\n",
    "for i in range(50):\n",
    "    dic[list(areas.index)[i]]=list(areas.Hemisphere)[i]\n",
    "dic[\"-\"]=\"-\""
   ]
  },
  {
   "cell_type": "code",
   "execution_count": 24,
   "id": "bc7e2f7a",
   "metadata": {
    "scrolled": true
   },
   "outputs": [
    {
     "data": {
      "text/plain": [
       "'norte'"
      ]
     },
     "execution_count": 24,
     "metadata": {},
     "output_type": "execute_result"
    }
   ],
   "source": [
    "dic[\"California\"]"
   ]
  },
  {
   "cell_type": "code",
   "execution_count": 25,
   "id": "533357e1",
   "metadata": {
    "scrolled": false
   },
   "outputs": [],
   "source": [
    "df[\"Hemisf\"]=df.Area.map(dic)"
   ]
  },
  {
   "cell_type": "code",
   "execution_count": 26,
   "id": "7fad8681",
   "metadata": {},
   "outputs": [],
   "source": [
    "df.Hemisf=df.Hemisf.fillna(\"-\")"
   ]
  },
  {
   "cell_type": "code",
   "execution_count": 27,
   "id": "3351d400",
   "metadata": {},
   "outputs": [
    {
     "data": {
      "text/html": [
       "<div>\n",
       "<style scoped>\n",
       "    .dataframe tbody tr th:only-of-type {\n",
       "        vertical-align: middle;\n",
       "    }\n",
       "\n",
       "    .dataframe tbody tr th {\n",
       "        vertical-align: top;\n",
       "    }\n",
       "\n",
       "    .dataframe thead th {\n",
       "        text-align: right;\n",
       "    }\n",
       "</style>\n",
       "<table border=\"1\" class=\"dataframe\">\n",
       "  <thead>\n",
       "    <tr style=\"text-align: right;\">\n",
       "      <th></th>\n",
       "      <th>Case Number</th>\n",
       "      <th>Date</th>\n",
       "      <th>Year</th>\n",
       "      <th>Type</th>\n",
       "      <th>Country</th>\n",
       "      <th>Area</th>\n",
       "      <th>Location</th>\n",
       "      <th>Activity</th>\n",
       "      <th>Sex</th>\n",
       "      <th>Age</th>\n",
       "      <th>Injury</th>\n",
       "      <th>Fatal (Y/N)</th>\n",
       "      <th>Time</th>\n",
       "      <th>Species</th>\n",
       "      <th>month</th>\n",
       "      <th>Hemisf</th>\n",
       "    </tr>\n",
       "  </thead>\n",
       "  <tbody>\n",
       "    <tr>\n",
       "      <th>0</th>\n",
       "      <td>2018.06.25</td>\n",
       "      <td>25-Jun-2018</td>\n",
       "      <td>2018.0</td>\n",
       "      <td>Boating</td>\n",
       "      <td>USA</td>\n",
       "      <td>California</td>\n",
       "      <td>Oceanside, San Diego County</td>\n",
       "      <td>Paddling</td>\n",
       "      <td>F</td>\n",
       "      <td>57</td>\n",
       "      <td>No injury to occupant, outrigger canoe and pad...</td>\n",
       "      <td>N</td>\n",
       "      <td>18h00</td>\n",
       "      <td>White shark</td>\n",
       "      <td>Jun</td>\n",
       "      <td>norte</td>\n",
       "    </tr>\n",
       "    <tr>\n",
       "      <th>1</th>\n",
       "      <td>2018.06.18</td>\n",
       "      <td>18-Jun-2018</td>\n",
       "      <td>2018.0</td>\n",
       "      <td>Unprovoked</td>\n",
       "      <td>USA</td>\n",
       "      <td>Georgia</td>\n",
       "      <td>St. Simon Island, Glynn County</td>\n",
       "      <td>Standing</td>\n",
       "      <td>F</td>\n",
       "      <td>11</td>\n",
       "      <td>Minor injury to left thigh</td>\n",
       "      <td>N</td>\n",
       "      <td>14h00  -15h00</td>\n",
       "      <td>NaN</td>\n",
       "      <td>Jun</td>\n",
       "      <td>norte</td>\n",
       "    </tr>\n",
       "    <tr>\n",
       "      <th>2</th>\n",
       "      <td>2018.06.09</td>\n",
       "      <td>09-Jun-2018</td>\n",
       "      <td>2018.0</td>\n",
       "      <td>Invalid</td>\n",
       "      <td>USA</td>\n",
       "      <td>Hawaii</td>\n",
       "      <td>Habush, Oahu</td>\n",
       "      <td>Surfing</td>\n",
       "      <td>M</td>\n",
       "      <td>48</td>\n",
       "      <td>Injury to left lower leg from surfboard skeg</td>\n",
       "      <td>N</td>\n",
       "      <td>07h45</td>\n",
       "      <td>NaN</td>\n",
       "      <td>Jun</td>\n",
       "      <td>norte</td>\n",
       "    </tr>\n",
       "    <tr>\n",
       "      <th>3</th>\n",
       "      <td>2018.06.08</td>\n",
       "      <td>08-Jun-2018</td>\n",
       "      <td>2018.0</td>\n",
       "      <td>Unprovoked</td>\n",
       "      <td>AUSTRALIA</td>\n",
       "      <td>New South Wales</td>\n",
       "      <td>Arrawarra Headland</td>\n",
       "      <td>Surfing</td>\n",
       "      <td>M</td>\n",
       "      <td>NaN</td>\n",
       "      <td>Minor injury to lower leg</td>\n",
       "      <td>N</td>\n",
       "      <td>NaN</td>\n",
       "      <td>2 m shark</td>\n",
       "      <td>Jun</td>\n",
       "      <td>sur</td>\n",
       "    </tr>\n",
       "    <tr>\n",
       "      <th>4</th>\n",
       "      <td>2018.06.04</td>\n",
       "      <td>04-Jun-2018</td>\n",
       "      <td>2018.0</td>\n",
       "      <td>Provoked</td>\n",
       "      <td>MEXICO</td>\n",
       "      <td>Colima</td>\n",
       "      <td>La Ticla</td>\n",
       "      <td>Free diving</td>\n",
       "      <td>M</td>\n",
       "      <td>NaN</td>\n",
       "      <td>Lacerations to leg &amp; hand shark PROVOKED INCIDENT</td>\n",
       "      <td>N</td>\n",
       "      <td>NaN</td>\n",
       "      <td>Tiger shark, 3m</td>\n",
       "      <td>Jun</td>\n",
       "      <td>-</td>\n",
       "    </tr>\n",
       "  </tbody>\n",
       "</table>\n",
       "</div>"
      ],
      "text/plain": [
       "  Case Number         Date    Year        Type    Country             Area  \\\n",
       "0  2018.06.25  25-Jun-2018  2018.0     Boating        USA       California   \n",
       "1  2018.06.18  18-Jun-2018  2018.0  Unprovoked        USA          Georgia   \n",
       "2  2018.06.09  09-Jun-2018  2018.0     Invalid        USA           Hawaii   \n",
       "3  2018.06.08  08-Jun-2018  2018.0  Unprovoked  AUSTRALIA  New South Wales   \n",
       "4  2018.06.04  04-Jun-2018  2018.0    Provoked     MEXICO           Colima   \n",
       "\n",
       "                         Location     Activity Sex   Age  \\\n",
       "0     Oceanside, San Diego County     Paddling    F   57   \n",
       "1  St. Simon Island, Glynn County     Standing    F   11   \n",
       "2                    Habush, Oahu      Surfing    M   48   \n",
       "3              Arrawarra Headland      Surfing    M  NaN   \n",
       "4                        La Ticla  Free diving    M  NaN   \n",
       "\n",
       "                                              Injury Fatal (Y/N)  \\\n",
       "0  No injury to occupant, outrigger canoe and pad...           N   \n",
       "1                         Minor injury to left thigh           N   \n",
       "2       Injury to left lower leg from surfboard skeg           N   \n",
       "3                          Minor injury to lower leg           N   \n",
       "4  Lacerations to leg & hand shark PROVOKED INCIDENT           N   \n",
       "\n",
       "            Time         Species  month Hemisf  \n",
       "0          18h00      White shark   Jun  norte  \n",
       "1  14h00  -15h00              NaN   Jun  norte  \n",
       "2          07h45              NaN   Jun  norte  \n",
       "3            NaN        2 m shark   Jun    sur  \n",
       "4            NaN  Tiger shark, 3m   Jun      -  "
      ]
     },
     "execution_count": 27,
     "metadata": {},
     "output_type": "execute_result"
    }
   ],
   "source": [
    "df.head(5)"
   ]
  },
  {
   "cell_type": "markdown",
   "id": "52774993",
   "metadata": {},
   "source": [
    "#### vamos a crear una parámetro llamado \"valor_verano\":\n",
    "#### representa \"cuánto de verano es un mes\" (en una escala del 1 al 6) en función del hemisferio"
   ]
  },
  {
   "cell_type": "code",
   "execution_count": 28,
   "id": "8f0c95db",
   "metadata": {},
   "outputs": [],
   "source": [
    "df[\"valor_verano\"]=0"
   ]
  },
  {
   "cell_type": "code",
   "execution_count": 29,
   "id": "b8c4618c",
   "metadata": {
    "scrolled": true
   },
   "outputs": [],
   "source": [
    "df[\"valor_verano\"]=df.apply(lambda fila: cf.verano(fila.Hemisf,fila.month), axis=1)"
   ]
  },
  {
   "cell_type": "code",
   "execution_count": 30,
   "id": "8a260bcc",
   "metadata": {},
   "outputs": [
    {
     "data": {
      "text/plain": [
       "-    2058\n",
       "6    1250\n",
       "5     900\n",
       "4     808\n",
       "3     589\n",
       "2     365\n",
       "1     334\n",
       "Name: valor_verano, dtype: int64"
      ]
     },
     "execution_count": 30,
     "metadata": {},
     "output_type": "execute_result"
    }
   ],
   "source": [
    "df.valor_verano.value_counts()"
   ]
  },
  {
   "cell_type": "code",
   "execution_count": null,
   "id": "3421de8f",
   "metadata": {},
   "outputs": [],
   "source": []
  },
  {
   "cell_type": "code",
   "execution_count": null,
   "id": "7a977a34",
   "metadata": {},
   "outputs": [],
   "source": []
  },
  {
   "cell_type": "markdown",
   "id": "e3d2bef4",
   "metadata": {},
   "source": [
    "# 3ª hipótesis: \"el tiburón blanco es la especie más peligrosa\""
   ]
  },
  {
   "cell_type": "code",
   "execution_count": 31,
   "id": "15d5b99f",
   "metadata": {},
   "outputs": [],
   "source": [
    "dic1={\"Species \":\"Species\"}"
   ]
  },
  {
   "cell_type": "code",
   "execution_count": 32,
   "id": "a9be5822",
   "metadata": {},
   "outputs": [],
   "source": [
    "df.rename(columns=dic1, inplace=True)"
   ]
  },
  {
   "cell_type": "code",
   "execution_count": 33,
   "id": "16393c2a",
   "metadata": {},
   "outputs": [],
   "source": [
    "df[\"clean_specie\"]=df.Species.apply(cf.spec_only)"
   ]
  },
  {
   "cell_type": "code",
   "execution_count": 34,
   "id": "5bc80580",
   "metadata": {},
   "outputs": [
    {
     "data": {
      "text/plain": [
       "unknown              4094\n",
       "white shark           634\n",
       "tiger shark           260\n",
       "bull shark            177\n",
       "m shark               129\n",
       "nurse shark            97\n",
       "whaler shark           66\n",
       "reef shark             65\n",
       "blacktip shark         61\n",
       "small shark            55\n",
       "mako shark             53\n",
       "wobbegong shark        46\n",
       "spinner shark          44\n",
       "hammerhead shark       44\n",
       "raggedtooth shark      43\n",
       "blue shark             40\n",
       "lemon shark            37\n",
       "zambesi shark          29\n",
       "whitetip shark         23\n",
       "no shark               23\n",
       "Name: clean_specie, dtype: int64"
      ]
     },
     "execution_count": 34,
     "metadata": {},
     "output_type": "execute_result"
    }
   ],
   "source": [
    "df.clean_specie.value_counts().head(20)"
   ]
  },
  {
   "cell_type": "code",
   "execution_count": null,
   "id": "d9f0d97b",
   "metadata": {},
   "outputs": [],
   "source": []
  },
  {
   "cell_type": "markdown",
   "id": "641857c9",
   "metadata": {},
   "source": [
    "# por último guardamos los datos:"
   ]
  },
  {
   "cell_type": "code",
   "execution_count": 35,
   "id": "1a1bfb5c",
   "metadata": {},
   "outputs": [],
   "source": [
    "df.to_csv(\"DATA/clean_sharks.csv\")"
   ]
  },
  {
   "cell_type": "code",
   "execution_count": 36,
   "id": "b4cdeaab",
   "metadata": {},
   "outputs": [],
   "source": [
    "areas.to_csv(\"DATA/cases_by_sea.csv\")"
   ]
  },
  {
   "cell_type": "code",
   "execution_count": null,
   "id": "1d0f89c2",
   "metadata": {},
   "outputs": [],
   "source": []
  }
 ],
 "metadata": {
  "kernelspec": {
   "display_name": "ironhack",
   "language": "python",
   "name": "ironhack"
  },
  "language_info": {
   "codemirror_mode": {
    "name": "ipython",
    "version": 3
   },
   "file_extension": ".py",
   "mimetype": "text/x-python",
   "name": "python",
   "nbconvert_exporter": "python",
   "pygments_lexer": "ipython3",
   "version": "3.8.12"
  }
 },
 "nbformat": 4,
 "nbformat_minor": 5
}
